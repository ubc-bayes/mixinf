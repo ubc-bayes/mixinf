{
 "cells": [
  {
   "cell_type": "code",
   "execution_count": 1,
   "metadata": {},
   "outputs": [],
   "source": [
    "# returns banana 2-dim density and sampler\n",
    "import numpy as np\n",
    "from scipy.special import gamma\n",
    "import scipy.stats as stats\n",
    "import argparse\n",
    "import matplotlib.pyplot as plt\n",
    "import tensorflow as tf\n",
    "import tensorflow_probability as tfp\n",
    "import pandas as pd"
   ]
  },
  {
   "cell_type": "code",
   "execution_count": 2,
   "metadata": {},
   "outputs": [
    {
     "ename": "ModuleNotFoundError",
     "evalue": "No module named 'gurobipy'",
     "output_type": "error",
     "traceback": [
      "\u001b[0;31m---------------------------------------------------------------------------\u001b[0m",
      "\u001b[0;31mModuleNotFoundError\u001b[0m                       Traceback (most recent call last)",
      "\u001b[0;32m<ipython-input-2-63cdd5112d6e>\u001b[0m in \u001b[0;36m<module>\u001b[0;34m\u001b[0m\n\u001b[0;32m----> 1\u001b[0;31m \u001b[0;32mfrom\u001b[0m \u001b[0mgurobipy\u001b[0m \u001b[0;32mimport\u001b[0m \u001b[0;34m*\u001b[0m\u001b[0;34m\u001b[0m\u001b[0;34m\u001b[0m\u001b[0m\n\u001b[0m",
      "\u001b[0;31mModuleNotFoundError\u001b[0m: No module named 'gurobipy'"
     ]
    }
   ],
   "source": [
    "from gurobipy import *"
   ]
  },
  {
   "cell_type": "code",
   "execution_count": 8,
   "metadata": {},
   "outputs": [
    {
     "data": {
      "text/plain": [
       "<function matplotlib.pyplot.show(close=None, block=None)>"
      ]
     },
     "execution_count": 8,
     "metadata": {},
     "output_type": "execute_result"
    },
    {
     "data": {
      "image/png": "[encoded data removed]",
      "text/plain": [
       "<Figure size 432x288 with 1 Axes>"
      ]
     },
     "metadata": {
      "needs_background": "light"
     },
     "output_type": "display_data"
    }
   ],
   "source": [
    "b = 0.1\n",
    "def p_aux(x, K):\n",
    "    banana = tfp.experimental.inference_gym.targets.Banana(\n",
    "        ndims=K, curvature=b, name='banana', pretty_name='Banana'\n",
    "    )\n",
    "    return np.array(np.exp(banana.unnormalized_log_prob(x)))\n",
    "def p(x): return p_aux(x, 2)\n",
    "\n",
    "def sample(size, K, noise = 10):\n",
    "    banana = tfp.experimental.inference_gym.targets.Banana(\n",
    "        ndims=K, curvature=b, name='banana', pretty_name='Banana'\n",
    "    )\n",
    "    return np.array(banana.sample(sample_shape=(size)) + noise*np.random.rand(size, K))\n",
    "\n",
    "len = 1000\n",
    "xx = np.linspace(-50, 50, len)\n",
    "yy = np.linspace(-50, 50, len)\n",
    "tt = np.array(np.meshgrid(xx, yy)).T.reshape(len**2, 2)\n",
    "zz = p(tt).reshape(len, len).T\n",
    "\n",
    "ss = sample(1000, 2)\n",
    "\n",
    "#print(tt, tt2, zz2, zz3)\n",
    "plt.contour(xx, yy, zz)\n",
    "plt.xlabel('x')\n",
    "plt.ylabel('y')\n",
    "plt.plot(ss[:, 0], ss[:, 1], 'ok')\n",
    "plt.show"
   ]
  }
 ],
 "metadata": {
  "kernelspec": {
   "display_name": "Python 3.8.1 64-bit",
   "language": "python",
   "name": "python38164bit24f1efb4742f4390b81f9cc32bc836d9"
  },
  "language_info": {
   "codemirror_mode": {
    "name": "ipython",
    "version": 3
   },
   "file_extension": ".py",
   "mimetype": "text/x-python",
   "name": "python",
   "nbconvert_exporter": "python",
   "pygments_lexer": "ipython3",
   "version": "3.8.1"
  }
 },
 "nbformat": 4,
 "nbformat_minor": 2
}
