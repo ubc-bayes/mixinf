{
 "cells": [
  {
   "cell_type": "code",
   "execution_count": 1,
   "metadata": {},
   "outputs": [],
   "source": [
    "# returns banana 2-dim density and sampler\n",
    "import numpy as np\n",
    "from scipy.special import gamma\n",
    "import scipy.stats as stats\n",
    "import argparse\n",
    "import matplotlib.pyplot as plt\n",
    "import tensorflow as tf\n",
    "import tensorflow_probability as tfp\n",
    "import pandas as pd"
   ]
  },
  {
   "cell_type": "code",
   "execution_count": 3,
   "metadata": {},
   "outputs": [
    {
     "data": {
      "text/plain": [
       "<function matplotlib.pyplot.show(close=None, block=None)>"
      ]
     },
     "execution_count": 3,
     "metadata": {},
     "output_type": "execute_result"
    },
    {
     "data": {
      "image/png": "[encoded data removed]",
      "text/plain": [
       "<Figure size 432x288 with 1 Axes>"
      ]
     },
     "metadata": {
      "needs_background": "light"
     },
     "output_type": "display_data"
    }
   ],
   "source": [
    "b = 0.1\n",
    "def p_aux(x, K):\n",
    "    banana = tfp.experimental.inference_gym.targets.Banana(\n",
    "        ndims=K, curvature=b, name='banana', pretty_name='Banana'\n",
    "    )\n",
    "    return np.array(np.exp(banana.unnormalized_log_prob(x)))\n",
    "def p(x): return p_aux(x, 2)\n",
    "\n",
    "def sample(size, K, noise = 10):\n",
    "    banana = tfp.experimental.inference_gym.targets.Banana(\n",
    "        ndims=K, curvature=b, name='banana', pretty_name='Banana'\n",
    "    )\n",
    "    return np.array(banana.sample(sample_shape=(size)) + noise*np.random.rand(size, K))\n",
    "\n",
    "len = 1000\n",
    "xx = np.linspace(-50, 50, len)\n",
    "yy = np.linspace(-50, 50, len)\n",
    "tt = np.array(np.meshgrid(xx, yy)).T.reshape(len**2, 2)\n",
    "zz = p(tt).reshape(len, len).T\n",
    "\n",
    "ss = sample(1000, 2)\n",
    "\n",
    "#print(tt, tt2, zz2, zz3)\n",
    "plt.contour(xx, yy, zz)\n",
    "plt.xlabel('x')\n",
    "plt.ylabel('y')\n",
    "plt.plot(ss[:, 0], ss[:, 1], 'ok')\n",
    "plt.show"
   ]
  },
  {
   "cell_type": "code",
   "execution_count": 2,
   "metadata": {},
   "outputs": [],
   "source": [
    "def norm_logpdf(x, loc = np.array([0]).reshape(1, 1), scale = np.array([1])):\n",
    "    \"\"\"\n",
    "    evaluate isotropic normal logpdf at x with mean loc and sd scale\n",
    "\n",
    "    - x is an (m+1)d array, where the last dimension accounts for multivariate x\n",
    "        eg x[0, 0,..., 0, :] is the first observation and has shape K\n",
    "    - loc is a shape(N, K) array\n",
    "    - scale is a shape(N,). The covariance matrix is given by scale[i]**2 * np.diag(N) (ie Gaussians are isotropic)\n",
    "\n",
    "    returns an md array with same shapes as x (except the last dimension)\n",
    "    \"\"\"\n",
    "    K = x.shape[-1]\n",
    "\n",
    "    return -0.5 * ((x[..., np.newaxis] - loc.T)**2).sum(axis = -2) / scale**2 - 0.5 * K *  np.log(2 * np.pi) - K * np.log(scale)\n",
    "###########\n",
    "\n",
    "###########\n",
    "def mixture_rvs(size, w, x, rho):\n",
    "    \"\"\"\n",
    "    draws a random sample of size size from the mixture defined by w, x, and rho\n",
    "    x is a shape(N, K) array and w, rho are shape(N,) arrays\n",
    "    returns a shape(size, K) array\n",
    "    \"\"\"\n",
    "    N = x.shape[0]\n",
    "    K = x.shape[1]\n",
    "\n",
    "    inds = np.random.choice(N, size = size, p = w, replace = True) # indices that will be chosen\n",
    "\n",
    "    #rand = np.random.multivariate_normal(mean = np.zeros(K), cov = np.eye(K), size = size) # sample from standard normal\n",
    "    rand = np.random.randn(size, K) # sample from standard normal but more efficiently than as above\n",
    "\n",
    "    # return scaled and translated random draws\n",
    "    sigmas = rho[inds] # index std deviations for ease\n",
    "    return rand * sigmas[:, np.newaxis] + x[inds, :]\n",
    "###########\n",
    "\n",
    "\n",
    "\n",
    "\n",
    "# CREATE DENSITY ####\n",
    "def p_aux(x, K):\n",
    "    # mixture settings\n",
    "    mix_size = 5\n",
    "    weights = np.arange(mix_size, 0, -1)**2\n",
    "    weights = weights / np.sum(weights)\n",
    "    means = np.repeat(3 * np.arange(mix_size), K).reshape(mix_size, K)\n",
    "    sd = np.ones(mix_size) / 5\n",
    "\n",
    "    # evaluate mixture\n",
    "    ln = norm_logpdf(x, loc = means, scale = sd)\n",
    "    target = np.log(weights) + ln  # log sum wn exp(ln) = log sum exp(log wn + ln)\n",
    "    max_value = np.max(target, axis = -1) # max within last axis\n",
    "    exp_sum = np.exp(target - max_value[..., np.newaxis]).sum(axis = -1)\n",
    "\n",
    "    return max_value + np.log(exp_sum)\n",
    "###"
   ]
  },
  {
   "cell_type": "code",
   "execution_count": 23,
   "metadata": {},
   "outputs": [
    {
     "name": "stdout",
     "output_type": "stream",
     "text": [
      "\n"
     ]
    },
    {
     "data": {
      "text/plain": [
       "Text(0, 0.5, 'y')"
      ]
     },
     "execution_count": 23,
     "metadata": {},
     "output_type": "execute_result"
    },
    {
     "data": {
      "image/png": "[encoded data removed]",
      "text/plain": [
       "<Figure size 432x288 with 1 Axes>"
      ]
     },
     "metadata": {
      "needs_background": "light"
     },
     "output_type": "display_data"
    }
   ],
   "source": [
    "K = 2\n",
    "def p(x): return p_aux(x, K)\n",
    "\n",
    "xlim = np.array([-3, 15]) # for plotting\n",
    "ylim = np.array([-3, 15]) # for plotting\n",
    "\n",
    "\n",
    "w = np.arange(5, 0, -1)**2\n",
    "w = w / np.sum(w)\n",
    "x = np.repeat(3 * np.arange(5), K).reshape(5, K)\n",
    "\n",
    "# initialize plot values\n",
    "size = 2000\n",
    "xx = np.linspace(xlim[0], xlim[1], size)\n",
    "yy = np.linspace(ylim[0], ylim[1], size)\n",
    "tt = np.array(np.meshgrid(xx, yy)).T.reshape(size**2, 2)\n",
    "ff = np.exp(p(tt))\n",
    "f = ff.reshape(size, size)\n",
    "\n",
    "df = pd.DataFrame({'x': tt[:, 0], 'y': tt[:, 1], 'f': ff})\n",
    "#print(df)\n",
    "print()\n",
    "#print(f)\n",
    "\n",
    "# plot\n",
    "plt.contour(yy, xx,f)\n",
    "plt.xlim(xlim[0], xlim[1])\n",
    "plt.ylim(ylim[0], ylim[1])\n",
    "plt.scatter(x[:, 0], x[:, 1], s = 1000*w, marker='.', c='k')\n",
    "\n",
    "# save plot\n",
    "plt.xlabel('x')\n",
    "plt.ylabel('y')\n",
    "#plt.title('mixture contour plot for N = ' + str(N))\n",
    "#title = 'contour_N' + str(N) + '.'"
   ]
  },
  {
   "cell_type": "code",
   "execution_count": null,
   "metadata": {},
   "outputs": [],
   "source": []
  }
 ],
 "metadata": {
  "kernelspec": {
   "display_name": "Python 3.8.1 64-bit",
   "language": "python",
   "name": "python38164bit24f1efb4742f4390b81f9cc32bc836d9"
  },
  "language_info": {
   "codemirror_mode": {
    "name": "ipython",
    "version": 3
   },
   "file_extension": ".py",
   "mimetype": "text/x-python",
   "name": "python",
   "nbconvert_exporter": "python",
   "pygments_lexer": "ipython3",
   "version": "3.8.1"
  }
 },
 "nbformat": 4,
 "nbformat_minor": 2
}
